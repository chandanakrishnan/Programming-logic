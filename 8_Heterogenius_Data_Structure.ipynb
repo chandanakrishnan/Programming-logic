{
  "nbformat": 4,
  "nbformat_minor": 0,
  "metadata": {
    "colab": {
      "provenance": [],
      "include_colab_link": true
    },
    "kernelspec": {
      "name": "python3",
      "display_name": "Python 3"
    }
  },
  "cells": [
    {
      "cell_type": "markdown",
      "metadata": {
        "id": "view-in-github",
        "colab_type": "text"
      },
      "source": [
        "<a href=\"https://colab.research.google.com/github/chandanakrishnan/Programming-logic/blob/main/8_Heterogenius_Data_Structure.ipynb\" target=\"_parent\"><img src=\"https://colab.research.google.com/assets/colab-badge.svg\" alt=\"Open In Colab\"/></a>"
      ]
    },
    {
      "cell_type": "markdown",
      "metadata": {
        "id": "Hz5WRc8AbhJ9"
      },
      "source": [
        "**Programing Logic**\n",
        "> **Professor: Sthefanie Passo**\n",
        "\n",
        "> **E-mail: sthefaniepasso@gmail.com**"
      ]
    },
    {
      "cell_type": "markdown",
      "metadata": {
        "id": "ApA7JIhtcJVT"
      },
      "source": [
        "##**Heterogenius Data Structures**"
      ]
    },
    {
      "cell_type": "markdown",
      "metadata": {
        "id": "eqd-P-91cRxa"
      },
      "source": [
        "In Python, heterogeneous data structures refer to collections that can hold elements of different data types. The most commonly used heterogeneous data structures are lists and dictionaries.\n",
        "\n",
        "## **Lists:**\n",
        "A list in Python is an ordered collection that can contain elements of different data types. Here's an example of a heterogeneous list:"
      ]
    },
    {
      "cell_type": "code",
      "source": [
        "hetero_list = [1, \"hello\", 3.14, True, [1, 2, 3]]\n",
        "\n",
        "# Accessing elements\n",
        "print(hetero_list[0])      # 1\n",
        "print(hetero_list[1][3])   # \"hello\"\n",
        "print(hetero_list[4][2])   # 3"
      ],
      "metadata": {
        "id": "JSpAQK3BPYrW",
        "colab": {
          "base_uri": "https://localhost:8080/"
        },
        "outputId": "f4878b41-5b87-4665-ed4c-ee146f12c401"
      },
      "execution_count": null,
      "outputs": [
        {
          "output_type": "stream",
          "name": "stdout",
          "text": [
            "1\n",
            "l\n",
            "3\n"
          ]
        }
      ]
    },
    {
      "cell_type": "markdown",
      "source": [
        "In the above example, the hetero_list contains an integer, a string, a float, a boolean, and another list.\n",
        "\n",
        "## **Dictionaries:**\n",
        "A dictionary in Python is an unordered collection of key-value pairs. Each key is unique, and it can hold values of different data types. Here's an example of a heterogeneous dictionary:"
      ],
      "metadata": {
        "id": "eoNKkVYyPfQL"
      }
    },
    {
      "cell_type": "code",
      "source": [
        "hetero_dict = {\n",
        "    \"name\": \"John\",\n",
        "    \"age\": 25,\n",
        "    \"is_student\": True,\n",
        "    \"grades\": [85, 90, 78],\n",
        "    1: 2\n",
        "}\n",
        "\n",
        "# Accessing elements\n",
        "print(hetero_dict[\"name\"])         # \"John\"\n",
        "print(hetero_dict[\"age\"])          # 25\n",
        "print(hetero_dict[\"grades\"][0])    # 85\n",
        "print(hetero_dict[1])"
      ],
      "metadata": {
        "id": "t3vmzecCPkcA",
        "colab": {
          "base_uri": "https://localhost:8080/"
        },
        "outputId": "09028824-b962-4be1-8845-708fb3f6ac02"
      },
      "execution_count": null,
      "outputs": [
        {
          "output_type": "stream",
          "name": "stdout",
          "text": [
            "John\n",
            "25\n",
            "85\n",
            "2\n"
          ]
        }
      ]
    },
    {
      "cell_type": "code",
      "source": [
        "# In a dictionary we can deleate keys\n",
        "del hetero_dict[1]\n",
        "print(hetero_dict)"
      ],
      "metadata": {
        "colab": {
          "base_uri": "https://localhost:8080/"
        },
        "id": "bENE79hUc1AS",
        "outputId": "b907b399-2907-4500-fda6-a91fa60764b5"
      },
      "execution_count": null,
      "outputs": [
        {
          "output_type": "stream",
          "name": "stdout",
          "text": [
            "{'name': 'John', 'age': 25, 'is_student': True, 'grades': [85, 90, 78]}\n"
          ]
        }
      ]
    },
    {
      "cell_type": "markdown",
      "source": [
        "You can also declare a key and let it empty"
      ],
      "metadata": {
        "id": "a-5NuJJsPk2F"
      }
    },
    {
      "cell_type": "code",
      "source": [
        "hetero_dict[\"student_loan\"] = None\n",
        "print(hetero_dict)\n",
        "hetero_dict[\"student_loan\"] = False\n",
        "print(hetero_dict)"
      ],
      "metadata": {
        "colab": {
          "base_uri": "https://localhost:8080/"
        },
        "id": "p1v0y1MCPkBX",
        "outputId": "3f0be0aa-a4a7-4ef7-dbbb-6076146f6c42"
      },
      "execution_count": null,
      "outputs": [
        {
          "output_type": "stream",
          "name": "stdout",
          "text": [
            "{'name': 'John', 'age': 25, 'is_student': True, 'grades': [85, 90, 78], 'student_loan': None}\n",
            "{'name': 'John', 'age': 25, 'is_student': True, 'grades': [85, 90, 78], 'student_loan': False}\n"
          ]
        }
      ]
    },
    {
      "cell_type": "markdown",
      "source": [
        "In the hetero_dict, keys are strings, and values can be strings, integers, booleans, or even lists.\n",
        "Another example of hou to create dictionaries is:"
      ],
      "metadata": {
        "id": "Hxlw_D5rK0dZ"
      }
    },
    {
      "cell_type": "code",
      "source": [
        "professor_dict = dict({\n",
        "    \"name\" : \"chansey\",\n",
        "    \"age\" : 25,\n",
        "    \"salary\" : 80556.42,\n",
        "    \"level\" : [\"TA\",\"GRA\",\"Teacher Assisant\",\"professor\"],\n",
        "    \"class\" : \"true\",\n",
        "    1 :3\n",
        "})\n",
        "\n",
        "professor_dict# name, age, salary, level (TA, GRA, Teacher Assistent, Professor), class (true or false)"
      ],
      "metadata": {
        "id": "vg4-Tm7ZK7BG",
        "colab": {
          "base_uri": "https://localhost:8080/"
        },
        "outputId": "e7d113b2-b3d9-4b05-aa9e-155f3f69a773"
      },
      "execution_count": null,
      "outputs": [
        {
          "output_type": "execute_result",
          "data": {
            "text/plain": [
              "{'name': 'chansey',\n",
              " 'age': 25,\n",
              " 'salary': 80556.42,\n",
              " 'level': ['TA', 'GRA', 'Teacher Assisant', 'professor'],\n",
              " 'class': 'true',\n",
              " 1: 3}"
            ]
          },
          "metadata": {},
          "execution_count": 10
        }
      ]
    },
    {
      "cell_type": "markdown",
      "source": [
        "Create an algorithm that print all numbers from 0 to 100 in a cursive way.\n",
        "\n",
        "\n",
        "\n",
        "```\n",
        "input = output\n",
        "25 = twenty five\n",
        "20 = twenty\n",
        "5 = five\n",
        "12 = twelve\n",
        "\n",
        "```\n",
        "\n"
      ],
      "metadata": {
        "id": "5q3SoIZqnpbr"
      }
    },
    {
      "cell_type": "code",
      "source": [
        "units = dict({0:\"zero\",\n",
        "          1:\"one\",\n",
        "          2:\"two\",\n",
        "          3:\"three\",\n",
        "          4:\"four\",\n",
        "          5:\"five\",\n",
        "          6:\"six\",\n",
        "          7:\"seven\",\n",
        "          8:\"eight\",\n",
        "          9:\"nine\"\n",
        "          })\n",
        "#dictionary for numbers 10 until 20\n",
        "dezens = dict({10: \"ten\",\n",
        "               20:\"twenty\",\n",
        "               30:\"thirdy\",\n",
        "               40:\"forty\",\n",
        "               50:\"fifty\",\n",
        "               60:\"sixty\",\n",
        "               70:\"seventy\",\n",
        "               80:\"eighty\",\n",
        "               90:\"ninety\",\n",
        "               100:\"hundred\"\n",
        "               }) #dezens\n",
        "#dictionary for numbers 11 until 19\n",
        "tens = dict({10:\"ten\",\n",
        "             11:\"eleven\",\n",
        "             12:\"twelve\",\n",
        "             13:\"thirteen\",\n",
        "             14:\"forteen\",\n",
        "             15:\"fifteen\",\n",
        "             16:\"sixteen\",\n",
        "             17:\"seventeen\",\n",
        "             18:\"eighteen\",\n",
        "             19:\"nineteen\"\n",
        "             })\n",
        "\n",
        "#input\n",
        "input = 39 #int(input(\"enter the number to print in cursive:\"))\n",
        "for i in range(0,101):\n",
        "  input = i          #0\n",
        "  d = (input//10)*10 #0\n",
        "  u = input%10       #0\n",
        "  t = input          #0\n",
        "  if(d>19 and d<=100):\n",
        "    print(dezens[d], end = \" \")\n",
        "  if(t>=10 and t<=19):\n",
        "    print(tens[input], end = \" \")\n",
        "  elif(u>0):\n",
        "    print(units[u], end = \" \")\n",
        "  if(u==0 and t==0):\n",
        "    print(units[u], end =\" \" )\n",
        "  print(input)\n",
        "\n",
        "\n",
        "#input the conditional statements and print it correctly\n",
        "# 0-9\n",
        "# if statement for numbers 10 until 20\n",
        "# 20-100"
      ],
      "metadata": {
        "colab": {
          "base_uri": "https://localhost:8080/"
        },
        "id": "35wsDjYuLdxD",
        "outputId": "703687d5-cf64-4f5d-c502-f48d54531ce9"
      },
      "execution_count": null,
      "outputs": [
        {
          "output_type": "stream",
          "name": "stdout",
          "text": [
            "zero 0\n",
            "one 1\n",
            "two 2\n",
            "three 3\n",
            "four 4\n",
            "five 5\n",
            "six 6\n",
            "seven 7\n",
            "eight 8\n",
            "nine 9\n",
            "ten 10\n",
            "eleven 11\n",
            "twelve 12\n",
            "thirteen 13\n",
            "forteen 14\n",
            "fifteen 15\n",
            "sixteen 16\n",
            "seventeen 17\n",
            "eighteen 18\n",
            "nineteen 19\n",
            "twenty 20\n",
            "twenty one 21\n",
            "twenty two 22\n",
            "twenty three 23\n",
            "twenty four 24\n",
            "twenty five 25\n",
            "twenty six 26\n",
            "twenty seven 27\n",
            "twenty eight 28\n",
            "twenty nine 29\n",
            "thirdy 30\n",
            "thirdy one 31\n",
            "thirdy two 32\n",
            "thirdy three 33\n",
            "thirdy four 34\n",
            "thirdy five 35\n",
            "thirdy six 36\n",
            "thirdy seven 37\n",
            "thirdy eight 38\n",
            "thirdy nine 39\n",
            "forty 40\n",
            "forty one 41\n",
            "forty two 42\n",
            "forty three 43\n",
            "forty four 44\n",
            "forty five 45\n",
            "forty six 46\n",
            "forty seven 47\n",
            "forty eight 48\n",
            "forty nine 49\n",
            "fifty 50\n",
            "fifty one 51\n",
            "fifty two 52\n",
            "fifty three 53\n",
            "fifty four 54\n",
            "fifty five 55\n",
            "fifty six 56\n",
            "fifty seven 57\n",
            "fifty eight 58\n",
            "fifty nine 59\n",
            "sixty 60\n",
            "sixty one 61\n",
            "sixty two 62\n",
            "sixty three 63\n",
            "sixty four 64\n",
            "sixty five 65\n",
            "sixty six 66\n",
            "sixty seven 67\n",
            "sixty eight 68\n",
            "sixty nine 69\n",
            "seventy 70\n",
            "seventy one 71\n",
            "seventy two 72\n",
            "seventy three 73\n",
            "seventy four 74\n",
            "seventy five 75\n",
            "seventy six 76\n",
            "seventy seven 77\n",
            "seventy eight 78\n",
            "seventy nine 79\n",
            "eighty 80\n",
            "eighty one 81\n",
            "eighty two 82\n",
            "eighty three 83\n",
            "eighty four 84\n",
            "eighty five 85\n",
            "eighty six 86\n",
            "eighty seven 87\n",
            "eighty eight 88\n",
            "eighty nine 89\n",
            "ninety 90\n",
            "ninety one 91\n",
            "ninety two 92\n",
            "ninety three 93\n",
            "ninety four 94\n",
            "ninety five 95\n",
            "ninety six 96\n",
            "ninety seven 97\n",
            "ninety eight 98\n",
            "ninety nine 99\n",
            "hundred 100\n"
          ]
        }
      ]
    },
    {
      "cell_type": "markdown",
      "source": [
        "## **Tuple:**\n",
        "A tuple is another data structure in Python that can be **heterogeneous**. Tuples are ordered and immutable, meaning **their elements cannot be changed after creation**:"
      ],
      "metadata": {
        "id": "nzyslEoGPm2A"
      }
    },
    {
      "cell_type": "code",
      "source": [
        "hetero_tuple = (1, \"apple\", 3.14, True)\n",
        "\n",
        "# Accessing elements\n",
        "print(hetero_tuple[0])\n",
        "print(hetero_tuple[1])\n"
      ],
      "metadata": {
        "id": "0oJ43H7jQBKK",
        "colab": {
          "base_uri": "https://localhost:8080/"
        },
        "outputId": "e0afd46a-159d-419d-9623-77fd5e0e67a7"
      },
      "execution_count": null,
      "outputs": [
        {
          "output_type": "stream",
          "name": "stdout",
          "text": [
            "1\n",
            "apple\n"
          ]
        }
      ]
    },
    {
      "cell_type": "code",
      "source": [
        "#Tuple does not suport deletion neigther edition\n",
        "del hetero_tuple[2]\n",
        "print(hetero_tuple)"
      ],
      "metadata": {
        "colab": {
          "base_uri": "https://localhost:8080/",
          "height": 191
        },
        "id": "PJnWn21VdAIt",
        "outputId": "7b6f5433-9f1e-4030-c846-90a067345ebf"
      },
      "execution_count": null,
      "outputs": [
        {
          "output_type": "error",
          "ename": "TypeError",
          "evalue": "ignored",
          "traceback": [
            "\u001b[0;31m---------------------------------------------------------------------------\u001b[0m",
            "\u001b[0;31mTypeError\u001b[0m                                 Traceback (most recent call last)",
            "\u001b[0;32m<ipython-input-12-c86dcda7115d>\u001b[0m in \u001b[0;36m<cell line: 1>\u001b[0;34m()\u001b[0m\n\u001b[0;32m----> 1\u001b[0;31m \u001b[0;32mdel\u001b[0m \u001b[0mhetero_tuple\u001b[0m\u001b[0;34m[\u001b[0m\u001b[0;36m2\u001b[0m\u001b[0;34m]\u001b[0m\u001b[0;34m\u001b[0m\u001b[0;34m\u001b[0m\u001b[0m\n\u001b[0m\u001b[1;32m      2\u001b[0m \u001b[0mprint\u001b[0m\u001b[0;34m(\u001b[0m\u001b[0mhetero_tuple\u001b[0m\u001b[0;34m)\u001b[0m\u001b[0;34m\u001b[0m\u001b[0;34m\u001b[0m\u001b[0m\n",
            "\u001b[0;31mTypeError\u001b[0m: 'tuple' object doesn't support item deletion"
          ]
        }
      ]
    },
    {
      "cell_type": "code",
      "source": [
        "#Tuple does not suport deletion neigther edition\n",
        "hetero_tuple[0] = 8"
      ],
      "metadata": {
        "colab": {
          "base_uri": "https://localhost:8080/",
          "height": 191
        },
        "id": "wu1SUx4CdQxH",
        "outputId": "502a5a64-1015-4c67-e3b3-56a1f9376c37"
      },
      "execution_count": null,
      "outputs": [
        {
          "output_type": "error",
          "ename": "TypeError",
          "evalue": "ignored",
          "traceback": [
            "\u001b[0;31m---------------------------------------------------------------------------\u001b[0m",
            "\u001b[0;31mTypeError\u001b[0m                                 Traceback (most recent call last)",
            "\u001b[0;32m<ipython-input-14-1d1e4a62a9d3>\u001b[0m in \u001b[0;36m<cell line: 2>\u001b[0;34m()\u001b[0m\n\u001b[1;32m      1\u001b[0m \u001b[0;31m#Tuple does not suport deletion neigther edition\u001b[0m\u001b[0;34m\u001b[0m\u001b[0;34m\u001b[0m\u001b[0m\n\u001b[0;32m----> 2\u001b[0;31m \u001b[0mhetero_tuple\u001b[0m\u001b[0;34m[\u001b[0m\u001b[0;36m0\u001b[0m\u001b[0;34m]\u001b[0m \u001b[0;34m=\u001b[0m \u001b[0;36m8\u001b[0m\u001b[0;34m\u001b[0m\u001b[0;34m\u001b[0m\u001b[0m\n\u001b[0m",
            "\u001b[0;31mTypeError\u001b[0m: 'tuple' object does not support item assignment"
          ]
        }
      ]
    },
    {
      "cell_type": "markdown",
      "source": [
        "Other examples:"
      ],
      "metadata": {
        "id": "f6twF9dSMnnG"
      }
    },
    {
      "cell_type": "code",
      "source": [
        "# Example of dictionary\n",
        "a = [1,2,3,4]\n",
        "b = [2,4,6,8]\n",
        "c = {}\n",
        "#c = {'student1': a,\n",
        "#     'student2': b}\n",
        "print(\"Modification 0:\\n\",c)\n",
        "\n",
        "c['student1'] = a\n",
        "print(\"Modification 1:\\n\", c)\n",
        "c['student2'] = b\n",
        "print(\"Modification 2:\\n\", c)\n",
        "print(c['student2'][3])"
      ],
      "metadata": {
        "id": "kJDv6WPqMpBh",
        "colab": {
          "base_uri": "https://localhost:8080/"
        },
        "outputId": "ae30cd48-c19a-4c05-d733-e94fa141e8b7"
      },
      "execution_count": null,
      "outputs": [
        {
          "output_type": "stream",
          "name": "stdout",
          "text": [
            "Modification 0:\n",
            " {}\n",
            "Modification 1:\n",
            " {'student1': [1, 2, 3, 4]}\n",
            "Modification 2:\n",
            " {'student1': [1, 2, 3, 4], 'student2': [2, 4, 6, 8]}\n",
            "8\n"
          ]
        }
      ]
    },
    {
      "cell_type": "code",
      "source": [
        "tuple1 = (\"Sthefanie\", 981195114, 0, 0.45)\n",
        "print(tuple1)"
      ],
      "metadata": {
        "id": "E5YK_uoHMrJh",
        "colab": {
          "base_uri": "https://localhost:8080/"
        },
        "outputId": "53a1721c-1c02-4928-9da9-cf15e5586d91"
      },
      "execution_count": null,
      "outputs": [
        {
          "output_type": "stream",
          "name": "stdout",
          "text": [
            "('Sthefanie', 981195114, 0, 0.45)\n"
          ]
        }
      ]
    },
    {
      "cell_type": "markdown",
      "source": [
        "## **Sets:**\n",
        "Sets in Python are unordered collections of unique elements. While they are typically homogeneous, you can have a set of different data types:"
      ],
      "metadata": {
        "id": "81gCD3sBPwPm"
      }
    },
    {
      "cell_type": "code",
      "source": [
        "hetero_set = {1, \"apple\", 3.14, True}\n",
        "\n",
        "# Note: Sets are unordered, so there's no index-based access\n",
        "# You can check membership using 'in'\n",
        "print(\"orange\" in hetero_set)    # False\n"
      ],
      "metadata": {
        "id": "SLalv31iQPqI",
        "colab": {
          "base_uri": "https://localhost:8080/"
        },
        "outputId": "37f046c6-ed05-4916-95a8-c358138e083a"
      },
      "execution_count": null,
      "outputs": [
        {
          "output_type": "stream",
          "name": "stdout",
          "text": [
            "False\n"
          ]
        }
      ]
    },
    {
      "cell_type": "markdown",
      "source": [
        "These examples illustrate how Python allows you to create and work with heterogeneous data structures like lists, dictionaries, tuples, and sets, providing flexibility in handling different types of data within a single collection."
      ],
      "metadata": {
        "id": "JvLXS3y-QSJW"
      }
    },
    {
      "cell_type": "markdown",
      "source": [
        "Other examples of set:"
      ],
      "metadata": {
        "id": "fc8EpK4HNN7X"
      }
    },
    {
      "cell_type": "code",
      "source": [
        "example_set = {1,2,3,4,1}\n",
        "example_set"
      ],
      "metadata": {
        "id": "XXw-uIncNHHw",
        "colab": {
          "base_uri": "https://localhost:8080/"
        },
        "outputId": "bc16993d-0a0a-4010-8ff4-66f9488b54fe"
      },
      "execution_count": null,
      "outputs": [
        {
          "output_type": "execute_result",
          "data": {
            "text/plain": [
              "{1, 2, 3, 4}"
            ]
          },
          "metadata": {},
          "execution_count": 24
        }
      ]
    },
    {
      "cell_type": "code",
      "metadata": {
        "colab": {
          "base_uri": "https://localhost:8080/"
        },
        "id": "cGNRVMhBEJmb",
        "outputId": "406ab76f-11f7-489d-b04f-c856b4eec311"
      },
      "source": [
        "s = set([])\n",
        "s"
      ],
      "execution_count": null,
      "outputs": [
        {
          "output_type": "execute_result",
          "data": {
            "text/plain": [
              "set()"
            ]
          },
          "metadata": {},
          "execution_count": 21
        }
      ]
    },
    {
      "cell_type": "code",
      "metadata": {
        "colab": {
          "base_uri": "https://localhost:8080/"
        },
        "id": "j3JhUtLKEOx9",
        "outputId": "85918f0a-d97f-4817-cc1f-d8b7c4cc8700"
      },
      "source": [
        "s.add(1)\n",
        "s.add(2)\n",
        "s.add(1)\n",
        "s"
      ],
      "execution_count": null,
      "outputs": [
        {
          "output_type": "execute_result",
          "data": {
            "text/plain": [
              "{1, 2}"
            ]
          },
          "metadata": {},
          "execution_count": 22
        }
      ]
    },
    {
      "cell_type": "code",
      "metadata": {
        "id": "yAmMbfHJGdLQ",
        "colab": {
          "base_uri": "https://localhost:8080/"
        },
        "outputId": "bdb3d25d-f7ae-4d28-e198-55ce43ece64d"
      },
      "source": [
        "nome_do_set1 = set([1, 2, 4, 1, 5, 5, 3])\n",
        "nome_do_set1"
      ],
      "execution_count": null,
      "outputs": [
        {
          "output_type": "execute_result",
          "data": {
            "text/plain": [
              "{1, 2, 3, 4, 5}"
            ]
          },
          "metadata": {},
          "execution_count": 23
        }
      ]
    },
    {
      "cell_type": "markdown",
      "metadata": {
        "id": "DDLZocWlED8l"
      },
      "source": [
        "Referências:\n",
        "\n",
        "[Principais Estruturas de Dados no Python](https://www.treinaweb.com.br/blog/principais-estruturas-de-dados-no-python/)\n",
        "\n",
        "[Estruturas de dados Heterogêneas(struct)](https://www.codingame.com/playgrounds/24988/programacao-c/estrutura-de-dados-heterogenea-struct)"
      ]
    },
    {
      "cell_type": "markdown",
      "source": [
        "## Exercices\n",
        "1. Digit an algorithm that receive a binary bases number range 000 until 111 and write the string of the number in decimal.\n",
        "\n",
        "\n",
        "\n",
        "```\n",
        "000 = (0 * 2^2) + (0 * 2^1) + (0 * 2^0) = 0+0+0 = 0 = zero\n",
        "101 = (1 * 2^2) + (0 * 2^1) + (1 * 2^0) = 4+0+1 = 5 = five\n",
        "111 =  (1* 2^2) + (1 * 2^1) + (1 * 2^1) = 4+1+2 = 7 = seven\n",
        "```\n",
        "\n"
      ],
      "metadata": {
        "id": "0lFYfHlxeStU"
      }
    },
    {
      "cell_type": "code",
      "source": [
        "input = '111' #(input(\"Enter the number: \"))\n",
        "      #  012\n",
        "print(input[0],input[1],input[2])\n",
        "binary_sum = (int(input[0])*2**2)\n",
        "#binary_sum = (int(input[0])*2**2)+int((input[1])*2**1)+int((input[2])*2**0) # n^3 = n**3\n",
        "\n",
        "print(binary_sum)\n"
      ],
      "metadata": {
        "id": "xKFuQQS-eS9l",
        "colab": {
          "base_uri": "https://localhost:8080/"
        },
        "outputId": "a3991aaf-ea20-4fb5-9f41-089f337aa7e5"
      },
      "execution_count": null,
      "outputs": [
        {
          "output_type": "stream",
          "name": "stdout",
          "text": [
            "1 1 1\n",
            "16\n"
          ]
        }
      ]
    },
    {
      "cell_type": "markdown",
      "source": [
        "2. Write a code with a dictionary with range 0 to 15 and the value is the square of the key\n",
        "\n",
        "\n",
        "\n",
        "```\n",
        "dictionary = {1:1, 2:4, 3:9 ...15:225}\n",
        "\n",
        "```\n",
        "\n",
        "To add elements in a dictionary we can do:\n",
        "\n",
        "\n",
        "```\n",
        "thisdict = {\n",
        "  \"brand\": \"Ford\",\n",
        "  \"model\": \"Mustang\",\n",
        "  \"year\": 1964\n",
        "}\n",
        "thisdict[\"color\"] = \"red\"\n",
        "print(thisdict)\n",
        "```\n",
        "\n"
      ],
      "metadata": {
        "id": "j07VT541eTLI"
      }
    },
    {
      "cell_type": "code",
      "source": [
        "square ={}\n",
        "for i in range (1,16):\n",
        "  square[i] = i*i\n",
        "print(square)"
      ],
      "metadata": {
        "id": "-kQ3yBrmeTca",
        "colab": {
          "base_uri": "https://localhost:8080/"
        },
        "outputId": "9d97710b-764d-4582-e8c6-3037de7f18cd"
      },
      "execution_count": null,
      "outputs": [
        {
          "output_type": "stream",
          "name": "stdout",
          "text": [
            "{1: 1, 2: 4, 3: 9, 4: 16, 5: 25, 6: 36, 7: 49, 8: 64, 9: 81, 10: 100, 11: 121, 12: 144, 13: 169, 14: 196, 15: 225}\n"
          ]
        }
      ]
    },
    {
      "cell_type": "code",
      "source": [
        "table5 = {}\n",
        "for i in range(0,11):\n",
        "  table5[i] = i*5\n",
        "print(table5)"
      ],
      "metadata": {
        "colab": {
          "base_uri": "https://localhost:8080/"
        },
        "id": "hfS45kQz2Sr4",
        "outputId": "21205975-6177-4e5c-e369-ab59070240bd"
      },
      "execution_count": null,
      "outputs": [
        {
          "output_type": "stream",
          "name": "stdout",
          "text": [
            "{0: 0, 1: 5, 2: 10, 3: 15, 4: 20, 5: 25, 6: 30, 7: 35, 8: 40, 9: 45, 10: 50}\n"
          ]
        }
      ]
    },
    {
      "cell_type": "markdown",
      "source": [
        "3. Write a code where you concatenate 3 dictionaries:\n",
        "\n",
        "\n",
        "```\n",
        "Input:\n",
        "dic1={1:10, 2:20}\n",
        "dic2={3:30, 4:40}\n",
        "dic3={5:50,6:60}\n",
        "\n",
        "Output :\n",
        "{1: 10, 2: 20, 3: 30, 4: 40, 5: 50, 6: 60}\n",
        "```\n",
        "\n"
      ],
      "metadata": {
        "id": "gDVf4_yyw4tS"
      }
    },
    {
      "cell_type": "code",
      "source": [
        "from collections import ChainMap\n",
        "dic1 = {1:10, 2:20}\n",
        "dic2 = {3:30, 4:40}\n",
        "dic3 = {5:50, 6:60}\n",
        "dict4 = ChainMap(dic1, dic2, dic3)\n",
        "print(dict4)"
      ],
      "metadata": {
        "id": "kypA-U1Jw5T0",
        "colab": {
          "base_uri": "https://localhost:8080/"
        },
        "outputId": "7f3b6f3c-1fa6-4b24-8ca3-b14724001610"
      },
      "execution_count": null,
      "outputs": [
        {
          "output_type": "stream",
          "name": "stdout",
          "text": [
            "ChainMap({1: 10, 2: 20}, {3: 30, 4: 40}, {5: 50, 6: 60})\n"
          ]
        }
      ]
    },
    {
      "cell_type": "code",
      "source": [
        "def Merge(dic1, dic2, dic3):\n",
        "  res = dic1 | dic2 | dic3\n",
        "  return res\n",
        "\n",
        "dic1 = {1:10, 2:20}\n",
        "dic2 = {3:30, 4:40}\n",
        "dic3 = {5:50, 6:60}\n",
        "dic4 = Merge(dic1, dic2,dic3)\n",
        "print(dic4)"
      ],
      "metadata": {
        "colab": {
          "base_uri": "https://localhost:8080/"
        },
        "id": "eXzdBYTC5mUV",
        "outputId": "7028d9db-1b8e-45b6-e07b-c963d9a1eec1"
      },
      "execution_count": null,
      "outputs": [
        {
          "output_type": "stream",
          "name": "stdout",
          "text": [
            "{1: 10, 2: 20, 3: 30, 4: 40, 5: 50, 6: 60}\n"
          ]
        }
      ]
    },
    {
      "cell_type": "code",
      "source": [
        "dic1 = {1:10, 2:20}\n",
        "dic2 = {3:30, 4:40}\n",
        "dic3 = {5:50, 6:60}\n",
        "dic4 = dic1 | dic2 | dic3\n",
        "#overload the operator\n",
        "print(dic4)"
      ],
      "metadata": {
        "colab": {
          "base_uri": "https://localhost:8080/"
        },
        "id": "PhxWbON-6jus",
        "outputId": "1760a6f1-e024-4786-9f11-5158e2ced478"
      },
      "execution_count": null,
      "outputs": [
        {
          "output_type": "stream",
          "name": "stdout",
          "text": [
            "{1: 10, 2: 20, 3: 30, 4: 40, 5: 50, 6: 60}\n"
          ]
        }
      ]
    },
    {
      "cell_type": "markdown",
      "source": [
        "4. Write a Python program to return a new set with unique items from both sets by removing duplicates.\n",
        "\n",
        "\n",
        "\n",
        "```\n",
        "Input:\n",
        "set1 = {10, 20, 30, 40, 50}\n",
        "set2 = {30, 40, 50, 60, 70}\n",
        "\n",
        "Output:\n",
        "{70, 40, 10, 50, 20, 60, 30}\n",
        "```\n",
        "\n",
        "Hint: Use the union() method of a set.\n",
        "**d1.union(d2)**\n",
        "\n"
      ],
      "metadata": {
        "id": "zCiyn-UZxcSL"
      }
    },
    {
      "cell_type": "code",
      "source": [],
      "metadata": {
        "id": "uFvGLI42x6Xl"
      },
      "execution_count": null,
      "outputs": []
    },
    {
      "cell_type": "markdown",
      "source": [
        "5. Return a new set of identical items from two sets\n",
        "\n",
        "\n",
        "```\n",
        "Input:\n",
        "set1 = {10, 20, 30, 40, 50}\n",
        "set2 = {30, 40, 50, 60, 70}\n",
        "\n",
        "Output:\n",
        "{40, 50, 30}\n",
        "```\n",
        "\n",
        "Hint: Use the intersection() method of a set.\n",
        "\n",
        "\n",
        "\n"
      ],
      "metadata": {
        "id": "KPHqe-mnx64r"
      }
    },
    {
      "cell_type": "code",
      "source": [],
      "metadata": {
        "id": "H10LrtqWyvrO"
      },
      "execution_count": null,
      "outputs": []
    },
    {
      "cell_type": "markdown",
      "source": [
        "6. Remove items from set1 that are not common to both set1 and set2\n",
        "\n",
        "\n",
        "\n",
        "```\n",
        "Input:\n",
        "set1 = {10, 20, 30, 40, 50}\n",
        "set2 = {30, 40, 50, 60, 70}\n",
        "\n",
        "Output:\n",
        "{40,50,30}\n",
        "```\n",
        "\n",
        "Hint: Use the intersection_update() method of a set.\n",
        "\n",
        "\n",
        "\n"
      ],
      "metadata": {
        "id": "uJMjUhfyyvAJ"
      }
    },
    {
      "cell_type": "code",
      "source": [],
      "metadata": {
        "id": "jWF_O0AyzK1m"
      },
      "execution_count": null,
      "outputs": []
    },
    {
      "cell_type": "markdown",
      "source": [
        "7. Write a Python program to check whether an element exists within a tuple."
      ],
      "metadata": {
        "id": "OoSLCONEzL3N"
      }
    },
    {
      "cell_type": "code",
      "source": [],
      "metadata": {
        "id": "hSs6Sj-0zZtr"
      },
      "execution_count": null,
      "outputs": []
    },
    {
      "cell_type": "markdown",
      "source": [
        "8. Write a Python program to convert a list to a tuple."
      ],
      "metadata": {
        "id": "2b5UO1w6zaDH"
      }
    },
    {
      "cell_type": "code",
      "source": [],
      "metadata": {
        "id": "ZUhCwM9CzdPE"
      },
      "execution_count": null,
      "outputs": []
    },
    {
      "cell_type": "markdown",
      "source": [
        "9 .Write a Python program to print a tuple with string formatting.\n",
        "\n",
        "\n",
        "```\n",
        "Input:\n",
        "(100, 200, 300)\n",
        "\n",
        "Output:\n",
        "This is a tuple (100, 200, 300)\n",
        "```\n",
        "\n"
      ],
      "metadata": {
        "id": "AMZ6yE8PzdZS"
      }
    },
    {
      "cell_type": "code",
      "source": [],
      "metadata": {
        "id": "4lYQeZA3z1R1"
      },
      "execution_count": null,
      "outputs": []
    },
    {
      "cell_type": "markdown",
      "source": [
        "10. Write a Python program to remove an empty tuple(s) from a list of tuples.\n",
        "\n",
        "\n",
        "```\n",
        "Input:\n",
        "[(), (), ('',), ('a', 'b'), ('a', 'b', 'c'), ('d')]\n",
        "\n",
        "Output:\n",
        "[('',), ('a', 'b'), ('a', 'b', 'c'), 'd']\n",
        "```\n",
        "\n"
      ],
      "metadata": {
        "id": "uNTpFL2lz1g1"
      }
    },
    {
      "cell_type": "code",
      "source": [],
      "metadata": {
        "id": "ciaxza2Wz8wQ"
      },
      "execution_count": null,
      "outputs": []
    }
  ]
}