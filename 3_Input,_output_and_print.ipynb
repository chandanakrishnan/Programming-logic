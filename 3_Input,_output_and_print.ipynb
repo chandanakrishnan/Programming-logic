{
  "nbformat": 4,
  "nbformat_minor": 0,
  "metadata": {
    "colab": {
      "provenance": [],
      "include_colab_link": true
    },
    "kernelspec": {
      "name": "python3",
      "display_name": "Python 3"
    }
  },
  "cells": [
    {
      "cell_type": "markdown",
      "metadata": {
        "id": "view-in-github",
        "colab_type": "text"
      },
      "source": [
        "<a href=\"https://colab.research.google.com/github/chandanakrishnan/Programming-logic/blob/main/3_Input%2C_output_and_print.ipynb\" target=\"_parent\"><img src=\"https://colab.research.google.com/assets/colab-badge.svg\" alt=\"Open In Colab\"/></a>"
      ]
    },
    {
      "cell_type": "markdown",
      "metadata": {
        "id": "AcCSjPviUQv0"
      },
      "source": [
        "**Programming Introduction + Python + Hands On**\n",
        "> **Professor: Sthefanie Passo**"
      ]
    },
    {
      "cell_type": "markdown",
      "metadata": {
        "id": "-GYHiTyJ8NME"
      },
      "source": [
        "# **Input, output and print**\n",
        "\n",
        "---\n",
        "\n",
        "\n",
        "### What's input and output?\n",
        "**Input**\n",
        "\n",
        "Input devices are devices that input information into a system from an external source.\n",
        "\n",
        "*Example: WebCam, Scanner, barcode reader, etc ...*\n",
        "\n",
        "---\n",
        "\n",
        "**Output**\n",
        "\n",
        "The output devices return the information processed by the devices to the outside world.\n",
        "\n",
        "*Example: Headphone, printer, projector, etc ...*\n",
        "\n",
        "\n",
        "\n",
        "![link text](https://www.banglacyber.com/wp-content/uploads/2018/11/input_output_devices.jpg)\n"
      ]
    },
    {
      "cell_type": "markdown",
      "metadata": {
        "id": "rlYQj8gSButa"
      },
      "source": [
        "# **How works the output in pseudo-code?**\n",
        "\n",
        "Answer: through commands, which can vary from language to language. But ... in general, the logic is as follows:\n",
        "\n",
        "* First the word READ (in capital letters) followed by the variable name in parentheses (), follows a practical example:\n",
        "\n",
        "\n",
        "```\n",
        "\n",
        "Home-method\n",
        "\n",
        "   INTEGER age\n",
        "   STRING gender\n",
        "   REAL salary\n",
        "\n",
        "   READ (age)\n",
        "   READ (gender)\n",
        "   READ (salary)\n",
        "\n",
        "end-method\n",
        "\n",
        "```\n",
        "---\n",
        "\n",
        "And this is how you capture user data and store it somewhere, through the entrances."
      ]
    },
    {
      "cell_type": "markdown",
      "metadata": {
        "id": "ALnKbK_3Zq7i"
      },
      "source": [
        "## How to translate this pseudo-code to Python?\n",
        "In Python the input command we are going to use is **'input'**. How do we use the input? Very simple, you create the variable followed by \"=\" + \"input\", as follows:"
      ]
    },
    {
      "cell_type": "code",
      "metadata": {
        "colab": {
          "base_uri": "https://localhost:8080/"
        },
        "id": "Rfqz0J5H210h",
        "outputId": "af8c453f-6b3e-4cce-df0c-9743dc639902"
      },
      "source": [
        "age = int(input(\"Type the age: \"))\n",
        "gender = str(input(\"Type the gender: \"))\n",
        "salary = float(input(\"Type the salary: \"))"
      ],
      "execution_count": null,
      "outputs": [
        {
          "name": "stdout",
          "output_type": "stream",
          "text": [
            "Type the age: 13\n",
            "Type the gender: female\n",
            "Type the salary: 13000\n"
          ]
        }
      ]
    },
    {
      "cell_type": "markdown",
      "metadata": {
        "id": "-_YvFjIcikD1"
      },
      "source": [
        "Easy peasy lemons queasy"
      ]
    },
    {
      "cell_type": "markdown",
      "metadata": {
        "id": "rnbmjEpLmTbD"
      },
      "source": [
        "# **Output**\n",
        "\n",
        "In algorithms / pseudo-language, the outputs are basically represented by the word WRITE (in capital letters). The WRITE command does nothing more than write something on the screen, of course.\n",
        "\n",
        "\n",
        "\n",
        "```\n",
        "start-method\n",
        "\n",
        "    WRITE (“Hello World”)\n",
        "    WRITE (age);\n",
        "    WRITE (\"age\");\n",
        "    WRITE (“Sex is:”, sex)    \n",
        "\n",
        "End-method\n",
        "```\n"
      ]
    },
    {
      "cell_type": "code",
      "source": [
        "age = int(input(\"Type the age: \"))\n",
        "gender = str(input(\"Type the gender: \"))\n",
        "salary = float(input(\"Type the salary: \"))\n",
        "\n",
        "print(\"Hello World\")\n",
        "print(age)\n",
        "print(\"age\")\n",
        "print(\"Sex is: \",gender)"
      ],
      "metadata": {
        "colab": {
          "base_uri": "https://localhost:8080/"
        },
        "id": "wGKWoQJkpld1",
        "outputId": "e5a0c187-6ea8-4fbd-da92-6a675b42dd5d"
      },
      "execution_count": null,
      "outputs": [
        {
          "output_type": "stream",
          "name": "stdout",
          "text": [
            "Type the age: 16\n",
            "Type the gender: male\n",
            "Type the salary: 1000\n",
            "Hello World\n",
            "16\n",
            "age\n",
            "Sex is:  male\n"
          ]
        }
      ]
    },
    {
      "cell_type": "markdown",
      "metadata": {
        "id": "53awVawp02sD"
      },
      "source": [
        "## **How work the command WRITE in Python?**\n",
        "\n",
        "WRITE, as we have already seen, is a type of output, that is, a means that the computer uses to communicate with the user.\n",
        "\n",
        "In Python this command becomes \"**print**\", that's right, a simple and pure **print**.\n",
        "\n",
        "see how to apply the print in an algorithm in Python:\n",
        "\n"
      ]
    },
    {
      "cell_type": "code",
      "metadata": {
        "id": "rXmjLskg2Kns",
        "colab": {
          "base_uri": "https://localhost:8080/"
        },
        "outputId": "f0dde607-3ed3-4f7e-cb27-9469874f1368"
      },
      "source": [
        "age = int(input(\"Type the age: \"))\n",
        "gender = str(input(\"Type the gender: \"))\n",
        "salary = float(input(\"Type the salary: \"))\n",
        "\n",
        "print(\"Hello World!\")\n",
        "print(age);\n",
        "print(\"age\");\n",
        "print(\"Gender is:\", gender)"
      ],
      "execution_count": null,
      "outputs": [
        {
          "output_type": "stream",
          "text": [
            "Type the age: 10\n",
            "Type the gender: male\n",
            "Type the salary: 1000\n",
            "Hello World!\n",
            "10\n",
            "age\n",
            "Gender is: male\n"
          ],
          "name": "stdout"
        }
      ]
    },
    {
      "cell_type": "markdown",
      "metadata": {
        "id": "iuK7KZ2VKMKK"
      },
      "source": [
        "# **Important Observations**\n",
        "Well, the life is not that easy and usually you will need to declare the variable *TYPE* doring the input, if it is one **String**('Maricleudes'), **Integer**(5, -10, 1000), **Real** (1.25454), **Booleano**(true ou false), etc...\n",
        "\n",
        "\n",
        "In pseudo-code, we use the folowing types of datas:\n",
        "\n",
        "* INTEGER = (int in Python, pseudo-code is INTEIRO)\n",
        "* REAL = (serve to numbers with decimal houses, we can declare like a Float or Double))\n",
        "* STRING = (sequence of caracters)\n",
        "* BOOLEANO = (it have just two operators, True or False)\n",
        "\n",
        "\n",
        "\n",
        "**How works this variable types in Python?**\n",
        "\n",
        "\n",
        "1º Declare the name of the variable and after put the equal signal, example : num1 =\n",
        "\n",
        "2º Declare the variable type, string(**str**), integer(**int**), float(**float**), Boolean(**bool**).\n",
        "\n",
        "3º invoke the input >>> int(input()).\n",
        "\n",
        "\n",
        "\n",
        "### **Let's do one example:**\n",
        "\n",
        "Example: Request to the user their adress with street, city, state and zip code."
      ]
    },
    {
      "cell_type": "code",
      "metadata": {
        "colab": {
          "base_uri": "https://localhost:8080/"
        },
        "id": "Ugto7j_A5-zt",
        "outputId": "b76f2ac8-d097-4ee7-815f-6c8439e8ce72"
      },
      "source": [
        "#input\n",
        "adress = str(input(\"Digit your adress: \"))\n",
        "city = str(input(\"Digit your city: \"))\n",
        "state = str(input(\"Digit your state: \"))\n",
        "zip_code = int(input(\"Digit your zip code: \"))\n",
        "#processing\n",
        "\n",
        "#output\n",
        "print(adress, city, state, zip_code)"
      ],
      "execution_count": null,
      "outputs": [
        {
          "output_type": "stream",
          "name": "stdout",
          "text": [
            "Digit your adress: Teear Creeck\n",
            "Digit your city: Sharlet\n",
            "Digit your state: NC\n",
            "Digit your zip code: 28203\n",
            "Teear Creeck Sharlet NC 28203\n"
          ]
        }
      ]
    },
    {
      "cell_type": "markdown",
      "metadata": {
        "id": "_fM28E8t3f97"
      },
      "source": [
        "# **Summary so far ...**\n",
        "\n",
        "* We saw that inputs and outputs are ways for the computer / system to communicate with the outside world.\n",
        "\n",
        "* We learned that the entry in algorithm / Pseudo-language is represented by the word **READ** in capital letters and that in Python the word **input** corresponds\n",
        "\n",
        "* We also saw that the outputs are represented by the word **WRITE** when done in pseudo-language / algorithms and represented by **print** when it is in Python\n",
        "\n",
        "* We also saw how to specify the types of each variable in the inputs, remembering that if the type is not specified, the Python compiler will declare everything as if it were a string."
      ]
    },
    {
      "cell_type": "code",
      "metadata": {
        "id": "XaoGO8LzVMQu"
      },
      "source": [],
      "execution_count": null,
      "outputs": []
    },
    {
      "cell_type": "markdown",
      "metadata": {
        "id": "GFTMFJ9-5STI"
      },
      "source": [
        "## **Let's do some exercices to practice what we learned:**\n",
        "\n",
        "1) Write an algorithm, in pseudo-language, that will read a person's name, age and weight.\n",
        "\n",
        "\n",
        "```\n",
        "# Enter your algorithm here (pseudo-language does not compile)\n",
        "\n",
        "STRING name\n",
        "INTEGER age\n",
        "REAL weight\n",
        "\n",
        "READ(name)\n",
        "READ(age)\n",
        "READ(weight)\n",
        "\n",
        "```\n"
      ]
    },
    {
      "cell_type": "markdown",
      "metadata": {
        "id": "e-gcN9s07WhQ"
      },
      "source": [
        "**2)** Do the algorithm of exercise 1 to Python."
      ]
    },
    {
      "cell_type": "code",
      "metadata": {
        "id": "GFKqAEXv-8_G",
        "colab": {
          "base_uri": "https://localhost:8080/"
        },
        "outputId": "2eccac4e-e03d-47ec-e837-a36905170860"
      },
      "source": [
        "name = str(input(\"Digit your name :\"))\n",
        "age = int(input(\"Digit your age :\"))\n",
        "weight = float(input(\"Digit your weight :\"))\n",
        "\n",
        "print(name)\n",
        "print(age)\n",
        "print(weight)\n"
      ],
      "execution_count": null,
      "outputs": [
        {
          "output_type": "stream",
          "name": "stdout",
          "text": [
            "Digit your name :chandana\n",
            "Digit your age :23\n",
            "Digit your weight :133\n",
            "chandana\n",
            "23\n",
            "133.0\n"
          ]
        }
      ]
    },
    {
      "cell_type": "markdown",
      "metadata": {
        "id": "yZyS0AtdH1kb"
      },
      "source": [
        "**3)** In Python, write an algorithm to read the dimensions of a rectangle (base and height), calculate and write the\n",
        "rectangle area.\n",
        "\n",
        "\n"
      ]
    },
    {
      "cell_type": "code",
      "source": [
        "base = float(input(\"Digit your base :\"))\n",
        "height = float(input(\"Digit your height :\"))\n",
        "Area_of_rectangle = base*height\n",
        "print(Area_of_rectangle)\n"
      ],
      "metadata": {
        "id": "NjKd9bFYtInf",
        "colab": {
          "base_uri": "https://localhost:8080/"
        },
        "outputId": "308b1c45-30dc-4c78-8074-a34fdbc94775"
      },
      "execution_count": null,
      "outputs": [
        {
          "output_type": "stream",
          "name": "stdout",
          "text": [
            "Digit your base :2\n",
            "Digit your height :7.2\n",
            "14.4\n"
          ]
        }
      ]
    },
    {
      "cell_type": "markdown",
      "metadata": {
        "id": "JTsbaEBEFYqF"
      },
      "source": [
        "**4)** In Python, read 2 integer values ​​and store them in variables A and B. Sum A and B by assigning your result to variable X. Print X as follows: \"X = 15\" (example).\n",
        "\n",
        "Do not present any message other than what is being specified."
      ]
    },
    {
      "cell_type": "code",
      "metadata": {
        "id": "i2gXmW0mF0S1",
        "colab": {
          "base_uri": "https://localhost:8080/"
        },
        "outputId": "27c5361d-5229-4607-ea4a-9cb23cc9b2d2"
      },
      "source": [
        "a = 10\n",
        "b = 5\n",
        "c = a+b\n",
        "print(c)\n",
        "\n"
      ],
      "execution_count": null,
      "outputs": [
        {
          "output_type": "stream",
          "name": "stdout",
          "text": [
            "15\n"
          ]
        }
      ]
    },
    {
      "cell_type": "markdown",
      "metadata": {
        "id": "8yRa0Djx_Kzw"
      },
      "source": [
        "**5)** **Poor Innocence Exercise**\n",
        "\n",
        "Make an algorithm, in Python, that receives the height and weight of the Innocent and from that information do the calculation of the BMI (body mass index) to check if he is very thin and needs to go to the doctor."
      ]
    },
    {
      "cell_type": "code",
      "source": [],
      "metadata": {
        "id": "IY1Sqc7X2hcI"
      },
      "execution_count": null,
      "outputs": []
    },
    {
      "cell_type": "code",
      "metadata": {
        "id": "0tip8D5wA5Bw",
        "colab": {
          "base_uri": "https://localhost:8080/"
        },
        "outputId": "4df52c86-e124-42f3-801a-8621dd1cbcad"
      },
      "source": [
        "height = float(input(\"Digit your height(m): \"))\n",
        "weight = float(input(\"Digit your weight(kg): \"))\n",
        "The_BMI_is = (weight)/(height**2)\n",
        "print(The_BMI_is)\n"
      ],
      "execution_count": null,
      "outputs": [
        {
          "output_type": "stream",
          "name": "stdout",
          "text": [
            "Digit your height(m): 1.75\n",
            "Digit your weight(kg): 65\n",
            "21.224489795918366\n"
          ]
        }
      ]
    },
    {
      "cell_type": "code",
      "source": [
        "height = float(input(\"Digit your height(inches): \"))\n",
        "weight = float(input(\"Digit your weight(lbs): \"))\n",
        "The_BMI_is = 703*((weight)/(height**2))\n",
        "print(The_BMI_is)\n"
      ],
      "metadata": {
        "id": "OwBVrmk0u3YW",
        "colab": {
          "base_uri": "https://localhost:8080/"
        },
        "outputId": "a9117dc2-a84b-4059-a879-21f85a5d962c"
      },
      "execution_count": null,
      "outputs": [
        {
          "output_type": "stream",
          "name": "stdout",
          "text": [
            "Digit your height(inches): 68.89\n",
            "Digit your weight(lbs): 145\n",
            "21.47884667053434\n"
          ]
        }
      ]
    },
    {
      "cell_type": "markdown",
      "metadata": {
        "id": "xpARSYT8F-vo"
      },
      "source": [
        "**6)** In Python, read four integer values ​​A, B, C and D. Next, calculate and show the difference of the product of A and B by the product of C and D according to the formula: DIFFERENCE = (A * B - C * D) ."
      ]
    },
    {
      "cell_type": "code",
      "metadata": {
        "id": "HJh4EZtQGW45",
        "colab": {
          "base_uri": "https://localhost:8080/"
        },
        "outputId": "0f50c195-5f2a-49db-a6ac-28f3c273f037"
      },
      "source": [
        "A = 3\n",
        "B = 2\n",
        "C = 1\n",
        "D = 2\n",
        "Difference = (A*B-C*D)\n",
        "print(Difference)\n"
      ],
      "execution_count": null,
      "outputs": [
        {
          "output_type": "stream",
          "name": "stdout",
          "text": [
            "4\n"
          ]
        }
      ]
    },
    {
      "cell_type": "markdown",
      "metadata": {
        "id": "azWKophuGtmZ"
      },
      "source": [
        "**7)** The formula for calculating the area of ​​a circle is: area = π * radius^2. Considering for this problem that π = 3.14159:\n",
        "\n",
        "- Perform the area calculation, squaring the radius value and multiplying by π.\n",
        "\n",
        "**Input**\n",
        "\n",
        "The entry contains a floating point value (double precision), in this case, the radius variable.\n",
        "\n",
        "**Output**\n",
        "\n",
        "Display the message \"A =\" followed by the value of the area variable, as shown below, with 4 places after the decimal point. Use double precision variables (double)."
      ]
    },
    {
      "cell_type": "code",
      "metadata": {
        "id": "Wk4fu_ZFHJqi",
        "colab": {
          "base_uri": "https://localhost:8080/"
        },
        "outputId": "1a85f2d9-8512-4cf6-ccff-58e08b1b7737"
      },
      "source": [
        "radius = 2\n",
        "pi = 3.1415\n",
        "area_of_circle = float(pi*radius**2)\n",
        "print(area_of_circle)\n"
      ],
      "execution_count": null,
      "outputs": [
        {
          "output_type": "stream",
          "name": "stdout",
          "text": [
            "12.566\n"
          ]
        }
      ]
    },
    {
      "cell_type": "code",
      "metadata": {
        "id": "Y65VgD3EfLL_"
      },
      "source": [],
      "execution_count": null,
      "outputs": []
    }
  ]
}