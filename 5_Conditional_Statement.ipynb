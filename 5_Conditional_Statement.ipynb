{
  "nbformat": 4,
  "nbformat_minor": 0,
  "metadata": {
    "colab": {
      "provenance": [],
      "include_colab_link": true
    },
    "kernelspec": {
      "name": "python3",
      "display_name": "Python 3"
    }
  },
  "cells": [
    {
      "cell_type": "markdown",
      "metadata": {
        "id": "view-in-github",
        "colab_type": "text"
      },
      "source": [
        "<a href=\"https://colab.research.google.com/github/chandanakrishnan/Programming-logic/blob/main/5_Conditional_Statement.ipynb\" target=\"_parent\"><img src=\"https://colab.research.google.com/assets/colab-badge.svg\" alt=\"Open In Colab\"/></a>"
      ]
    },
    {
      "cell_type": "markdown",
      "metadata": {
        "id": "REggfRaahiUV"
      },
      "source": [
        "**Programming Introduction + Python + Hands On**\n",
        "> **Professor: Sthefanie Passo**"
      ]
    },
    {
      "cell_type": "markdown",
      "metadata": {
        "id": "h9bdDcXI7HyM"
      },
      "source": [
        "# **Conditional Statement**\n",
        "\n",
        "Any computer program can be written\n",
        "combining the three basic types of\n",
        "programming:\n",
        "\n",
        "* Sequential Statement\n",
        "* Conditional Statement\n",
        "* Repetition Statement\n",
        "\n",
        "## **Sequential Statement**\n",
        "It is the simplest programming structure.\n",
        "The algorithm's command flows follow the same linear sequence as our common script:\n",
        "\n",
        "\n",
        "* Top to bottom\n",
        "*   From left to right\n",
        "Its basic structure is the repetition of **sequential command**:\n",
        "\n",
        "```\n",
        "Action1;\n",
        "```\n",
        "\n",
        "```\n",
        "Action1;\n",
        "Action2;\n",
        "Action3;\n",
        "Action4;\n",
        "Action5;\n",
        "```\n",
        "Example:"
      ]
    },
    {
      "cell_type": "code",
      "metadata": {
        "id": "Fm76uCHX64Fm",
        "colab": {
          "base_uri": "https://localhost:8080/"
        },
        "outputId": "78b821bf-31bf-4fbd-9636-c7c77a1c5981"
      },
      "source": [
        "# Take the average from the grades\n",
        "g1, g2, g3 = 8.9, 8.0, 8.9\n",
        "average = (g1+g2+g3)/3\n",
        "print(\"The average is: \", average)"
      ],
      "execution_count": null,
      "outputs": [
        {
          "output_type": "stream",
          "name": "stdout",
          "text": [
            "The average is:  8.6\n"
          ]
        }
      ]
    },
    {
      "cell_type": "markdown",
      "metadata": {
        "id": "mDWObQzSe3wo"
      },
      "source": [
        "## **Conditional Structure**\n",
        "The **IF ... ELSE** structure is the simplest control structure in programming language. This structure allows to execute one of **several blocks of instructions**.\n",
        "\n",
        "The control of which block will be executed is given by a condition, **numeric or logical expression**. This structure can be presented in two different ways: simple or compound conditional.\n",
        "\n",
        "In the end the condition will have a value of **True** or **False**\n",
        "\n",
        "![alt text](https://assets-global.website-files.com/6184b461a39ff1011f8c0582/620239fdd8763fe2a551f490_If-else%20Flowchart.png)\n",
        "\n",
        "Example of simple conditional structure:"
      ]
    },
    {
      "cell_type": "code",
      "metadata": {
        "id": "TfpEzzPu9Tf8",
        "colab": {
          "base_uri": "https://localhost:8080/"
        },
        "outputId": "3fbabe9c-dd98-46b9-a2a5-21c625622bac"
      },
      "source": [
        "grade = float(input(\"Digit your grade (0-10): \"))\n",
        "if(grade > 5):\n",
        "  print(\"Congratulations!\")"
      ],
      "execution_count": null,
      "outputs": [
        {
          "name": "stdout",
          "output_type": "stream",
          "text": [
            "Digit your grade (0-10): 3\n"
          ]
        }
      ]
    },
    {
      "cell_type": "markdown",
      "metadata": {
        "id": "jxlxUTsq9T16"
      },
      "source": [
        "Compound conditional: Decision of two blocks. It is also possible to write a structure that executes one between two blocks of instructions.\n",
        "\n",
        "![alt text](https://d1whtlypfis84e.cloudfront.net/guides/wp-content/uploads/2021/06/29090322/if-else-flowchart.jpg)\n",
        "\n",
        "Example:"
      ]
    },
    {
      "cell_type": "code",
      "metadata": {
        "id": "Yw143uAC9bsq",
        "colab": {
          "base_uri": "https://localhost:8080/"
        },
        "outputId": "df6d573f-1372-42bb-d98c-96c927b4134c"
      },
      "source": [
        "grade = float(input(\"Digit your grade (0-10): \"))\n",
        "if(grade > 5):\n",
        "  print(\"Congratulations!\")\n",
        "else:\n",
        "  print(\"Try again!\")\n"
      ],
      "execution_count": null,
      "outputs": [
        {
          "output_type": "stream",
          "name": "stdout",
          "text": [
            "Digit your grade (0-10): 4\n",
            "Try again!\n"
          ]
        }
      ]
    },
    {
      "cell_type": "markdown",
      "source": [
        "Ternary operator\n",
        "\n",
        "\n",
        "\n",
        "```\n",
        "answer = a if a < b else b\n",
        "\n",
        "print(answer)\n",
        "```\n",
        "\n"
      ],
      "metadata": {
        "id": "-Bcs3uKPO2pX"
      }
    },
    {
      "cell_type": "code",
      "source": [
        "grade = float(input(\"Digit your grade (0-10): \"))\n",
        "answer = \"Congratulations\" if grade>5 else \"Try again\"\n",
        "print(answer)"
      ],
      "metadata": {
        "colab": {
          "base_uri": "https://localhost:8080/"
        },
        "id": "M5kFFxLgRDMJ",
        "outputId": "4e5470fb-b2c7-4c48-a7a8-cf116f07445e"
      },
      "execution_count": null,
      "outputs": [
        {
          "output_type": "stream",
          "name": "stdout",
          "text": [
            "Digit your grade (0-10): 2\n",
            "Try again\n"
          ]
        }
      ]
    },
    {
      "cell_type": "markdown",
      "metadata": {
        "id": "r5pbttxB-nqJ"
      },
      "source": [
        "In order for the **code blocks** to work according to the condition, we have to leave our code **idented** because otherwise it can generate errors.\n",
        "\n",
        "To identify, press the *tab*\n",
        "\n",
        "![alt text](https://d1whtlypfis84e.cloudfront.net/guides/wp-content/uploads/2021/06/29090812/Nested-if-flowchart.jpg)"
      ]
    },
    {
      "cell_type": "markdown",
      "source": [
        "Follow the table and write the conditional statement according to the grade\n",
        "\n",
        "\n",
        "\n",
        "```\n",
        "Grade is greater or equal to 8-10   ->   Congratulations\n",
        "Grade is greater or equal to 7-8   ->    Good Job\n",
        "Grade is greater or equal to 5-7   ->    Better luck next time\n",
        "Lower then 5  ->    Fail\n",
        "```\n",
        "\n"
      ],
      "metadata": {
        "id": "tfumSUfwQpc9"
      }
    },
    {
      "cell_type": "code",
      "metadata": {
        "id": "lXSypT-v_QDl",
        "colab": {
          "base_uri": "https://localhost:8080/"
        },
        "outputId": "c5709d2b-b041-41e1-e0a8-2cdb56699dac"
      },
      "source": [
        "grade = float(input(\"Digit your grade (0-10): \"))\n",
        "\n",
        "if(grade >= 8 and grade <10): #8<grade<10 python don't recognize\n",
        "  print(\"Congratulations\")\n",
        "elif (grade>= 7 and grade<8):\n",
        "  print(\"Good job\")\n",
        "elif (grade>= 5 and grade<7):\n",
        "    print(\"Better luck next time\")\n",
        "elif (grade< 5):\n",
        "    print(\"Fail\")"
      ],
      "execution_count": null,
      "outputs": [
        {
          "output_type": "stream",
          "name": "stdout",
          "text": [
            "Digit your grade (0-10): 2\n",
            "Fail\n"
          ]
        }
      ]
    },
    {
      "cell_type": "markdown",
      "metadata": {
        "id": "x30PWjUYICys"
      },
      "source": [
        "We will now see an example using **logical and arithmetic operators**, transforming the following sentence into an algorithm.\n",
        "\n",
        "First using the logical AND operator:\n",
        "\n",
        "**\"I go to the movie teather IF I have time AND money\".**"
      ]
    },
    {
      "cell_type": "code",
      "metadata": {
        "id": "GZXgM4LAKzSd",
        "colab": {
          "base_uri": "https://localhost:8080/"
        },
        "outputId": "9d824972-e140-46c9-8045-8d1e085e9697"
      },
      "source": [
        "time = str(input(\"Do you have time (y/N)? \"))\n",
        "money = str(input(\"Do you have money (y/N)? \"))\n",
        "\n",
        "if(time=='y' and money=='y'):\n",
        "  print(\"I'm going to the movies!\")\n",
        "else:\n",
        "  print(\"Another day...\")\n"
      ],
      "execution_count": null,
      "outputs": [
        {
          "output_type": "stream",
          "name": "stdout",
          "text": [
            "Do you have time (y/N)? y\n",
            "Do you have money (y/N)? y\n",
            "I'm going to the movies!\n"
          ]
        }
      ]
    },
    {
      "cell_type": "markdown",
      "metadata": {
        "id": "3eYtGULDrwWf"
      },
      "source": [
        "True Table AND (MULTIPLICATION 0 and 1)\n",
        "> T AND T = T //1 X 1 = 1\n",
        "\n",
        "> T AND F = F //1 X 0 = 0\n",
        "\n",
        "> F AND T = F //0 X 1 = 0\n",
        "\n",
        "> F AND F = F //0 X 0 = 0"
      ]
    },
    {
      "cell_type": "markdown",
      "metadata": {
        "id": "0CoKmmaSPHyr"
      },
      "source": [
        "And with the logical operator OR?\n",
        "\n",
        "Follow the thread:\n",
        "\n",
        "**\"I will go to the club IF my friends are there OR if my crush is there\".**"
      ]
    },
    {
      "cell_type": "code",
      "source": [
        "frinds = str(input(\"my friend coming to club (y/n)?\"))\n",
        "crush = str(input(\"my crush coming to club (y/n)?\"))\n",
        "\n",
        "if(frinds=='y' or crush=='y'):\n",
        "  print(\"I am going to the club\")\n",
        "else:\n",
        "    print(\"Another day...\")"
      ],
      "metadata": {
        "colab": {
          "base_uri": "https://localhost:8080/"
        },
        "id": "YVDHaxNp7gDI",
        "outputId": "37d7a67e-8b3e-4fcd-881c-e92a7d597876"
      },
      "execution_count": null,
      "outputs": [
        {
          "output_type": "stream",
          "name": "stdout",
          "text": [
            "my friend coming to club (y/n)?n\n",
            "my crush coming to club (y/n)?n\n",
            "Another day...\n"
          ]
        }
      ]
    },
    {
      "cell_type": "markdown",
      "metadata": {
        "id": "0R3FMiCUtJ4I"
      },
      "source": [
        "True Table OR (SUM 0 and 1)\n",
        "> T OR T = T //1 + 1 = 1\n",
        "\n",
        "> T OR F = T //1 + 0 = 1\n",
        "\n",
        "> F OR T = T //0 + 1 = 1\n",
        "\n",
        "> F OR F = F //0 + 0 = 0"
      ]
    },
    {
      "cell_type": "markdown",
      "metadata": {
        "id": "b_7ZQPSJ9sdf"
      },
      "source": [
        "Ready!\n",
        "\n",
        "Now that we have learned the main conditional structures and how to use them, **hands-on** !!!\n",
        "\n",
        "![alt text](https://media1.tenor.com/images/84e36470c3e534a5e71c208cd872d177/tenor.gif?itemid=6108221)"
      ]
    },
    {
      "cell_type": "markdown",
      "metadata": {
        "id": "7X2-cCJ4-N8y"
      },
      "source": [
        "# **Homework**\n",
        "\n",
        "**1)** Write an algorithm in Python that receives a name as input and checks if it is the same as its name. Print as appropriate:\n",
        "\n",
        "*   \"Correct name\"\n",
        "* \"Incorrect Name\"\n"
      ]
    },
    {
      "cell_type": "code",
      "metadata": {
        "id": "gAJAUSwm91g2",
        "colab": {
          "base_uri": "https://localhost:8080/"
        },
        "outputId": "f81cf2b2-83cd-4f86-cf31-061738bf7d1a"
      },
      "source": [
        "name = str(input(\"Please enter your name:\"))\n",
        "\n",
        "if(name=='stefanie'):\n",
        "  print(\"correct name\")\n",
        "else:\n",
        "  print(\"incorrect name\")\n",
        "\n"
      ],
      "execution_count": null,
      "outputs": [
        {
          "output_type": "stream",
          "name": "stdout",
          "text": [
            "Please enter your name:stefanie\n",
            "correct name\n"
          ]
        }
      ]
    },
    {
      "cell_type": "markdown",
      "metadata": {
        "id": "w1f89FOXAUJ9"
      },
      "source": [
        "**2)** Write an algorithm in python that reads three real numbers from the keyboard and verify that the first is greater than the sum of the other two."
      ]
    },
    {
      "cell_type": "code",
      "metadata": {
        "id": "IfOhpTgDAjWI",
        "colab": {
          "base_uri": "https://localhost:8080/"
        },
        "outputId": "be881647-af94-4aba-853f-848feae9f223"
      },
      "source": [
        "A = float(input(\"Digit a number for A: \"))\n",
        "B = float(input(\"Digit a number for B: \"))\n",
        "C = float(input(\"Digit a number for C: \"))\n",
        "if(A>B+C):\n",
        "  print(\"First number is greater than sum of other two\")\n",
        "else:\n",
        "  print(\"First number is not greater then sum of other two\")"
      ],
      "execution_count": null,
      "outputs": [
        {
          "output_type": "stream",
          "name": "stdout",
          "text": [
            "Digit a number for A: 10\n",
            "Digit a number for B: 7\n",
            "Digit a number for C: 1\n",
            "First number is greater than sum of other two\n"
          ]
        }
      ]
    },
    {
      "cell_type": "markdown",
      "metadata": {
        "id": "80pdEWY1AWwt"
      },
      "source": [
        "**3)** A technology store decided to make a mega promotion of console games. The game prices are identified by the colored labels, one in each game. Develop the algorithm that from the entry of the color of the label, the software shows the price. The store currently has the following price list:\n",
        "\n",
        "Green: $ 10.00\n",
        "\n",
        "Blue: $ 20.00\n",
        "\n",
        "Yellow: $ 30.00\n",
        "\n",
        "Red: $ 40.00"
      ]
    },
    {
      "cell_type": "code",
      "metadata": {
        "id": "ujnqyC2hAmbz",
        "colab": {
          "base_uri": "https://localhost:8080/"
        },
        "outputId": "f1a7c93f-1132-4e1a-8f88-a36b1ee2db6a"
      },
      "source": [
        "game = str(input(\"Enter the game you want to play:\"))\n",
        "\n",
        "if(game=='volleyball'):\n",
        "  print(\"green:$ 10.00\")\n",
        "elif(game=='baseketball'):\n",
        "  print(\"blue:$ 20.00\")\n",
        "if(game=='tennis'):\n",
        "  print(\"yellow:$ 30.00\")\n",
        "elif(game=='hockey'):\n",
        "  print(\"red:$ 40.00\")\n",
        "\n"
      ],
      "execution_count": null,
      "outputs": [
        {
          "output_type": "stream",
          "name": "stdout",
          "text": [
            "Enter the game you want to play:hockey\n",
            "red:$ 40.00\n"
          ]
        }
      ]
    },
    {
      "cell_type": "markdown",
      "source": [
        "**4)** Request 3 numbers from the user and print them in a ascending order using if and else statement.\n"
      ],
      "metadata": {
        "id": "ua9aWOgdjLND"
      }
    },
    {
      "cell_type": "code",
      "source": [
        "#example with just 2 numbers\n",
        "n1 = int(input(\"Digit a number: \")) #5\n",
        "n2 = int(input(\"Digit a number: \")) #2\n",
        "n3 = int(input (\"Digit a number: \"))\n",
        "\n",
        "if(n1<=n2) and (n1<=n3):\n",
        "  if(n2<=n3):\n",
        "    print(n1,n2,n3)\n",
        "  else:\n",
        "     print(n1,n3,n2)\n",
        "elif(n2<=n1) and (n2<=n3):\n",
        "  if(n1<=n3):\n",
        "    print(n2,n1,n3)\n",
        "  else:\n",
        "    print(n2,n3,n1)\n",
        "if(n3<=n1) and (n3<=n2):\n",
        "  if(n1<=n2):\n",
        "    print(n3,n1,n2)\n",
        "  else:\n",
        "      print(n3,n2,n1)\n",
        "\n",
        "\n",
        "#output 2, 5"
      ],
      "metadata": {
        "colab": {
          "base_uri": "https://localhost:8080/"
        },
        "id": "JqWpy37hK8T_",
        "outputId": "21471338-5c8a-43c4-cbe1-4ce86a047941"
      },
      "execution_count": null,
      "outputs": [
        {
          "output_type": "stream",
          "name": "stdout",
          "text": [
            "Digit a number: 7\n",
            "Digit a number: 1\n",
            "Digit a number: 9\n",
            "1 7 9\n"
          ]
        }
      ]
    },
    {
      "cell_type": "code",
      "source": [
        "n1 = int(input(\"Digit a number: \")) #1\n",
        "n2 = int(input(\"Digit a number: \")) #3\n",
        "n3 = int(input(\"Digit a number: \")) #2\n",
        "\n",
        "if(n1 <= n2 and n1<=n3):\n",
        "  if(n2<=n3):\n",
        "    print(n1,\", \", n2, \", \", n3)\n",
        "  else:\n",
        "    print(n1,\", \", n3, \", \", n2)\n",
        "elif ...\n",
        "\n",
        "\n"
      ],
      "metadata": {
        "id": "vE2DWRLOjL1O",
        "colab": {
          "base_uri": "https://localhost:8080/"
        },
        "outputId": "c862484a-0609-4f8e-9f1c-4b3919cb6ebe"
      },
      "execution_count": null,
      "outputs": [
        {
          "output_type": "stream",
          "name": "stdout",
          "text": [
            "Digit a number: 1\n",
            "Digit a number: 2\n",
            "Digit a number: 3\n",
            "1 ,  2 ,  3\n"
          ]
        }
      ]
    },
    {
      "cell_type": "markdown",
      "source": [
        "**6)** Help Starbucks giving 3 different options of coffee (iced caramel brulee latte, matcha latte, cappucino), temperature (hot or cold) and size (S,M,L). Calculate the final price of the order.\n"
      ],
      "metadata": {
        "id": "dpBvbJBTl219"
      }
    },
    {
      "cell_type": "code",
      "source": [
        "coffee = str(input(\"Choose the coffee you want :iced caramel brulee latte, matcha latte, cappucino? \"))\n",
        "temperature = str(input(\"Do you want it hot or cold? \"))\n",
        "size = str(input(\"please select the size : S,M,L? \"))\n",
        "\n",
        "#iced caramel brulee latte\n",
        "if(coffee=='iced caramel brulee latte' and temperature=='hot'and size=='S'):\n",
        "  print(\"Final price = $5.5\")\n",
        "elif (coffee=='iced caramel brulee latte'and temperature=='hot' and size=='M'):\n",
        "  print(\"Final price = $6.5\")\n",
        "elif(coffee=='iced caramel brulee latte'and temperature=='hot' and size=='L'):\n",
        "  print(\"Final price = $7.5\")\n",
        "elif(coffee=='iced caramel brulee latte' and temperature=='cold'and size=='S'):\n",
        "  print(\"Final price = $5\")\n",
        "elif (coffee=='iced caramel brulee latte'and temperature=='cold' and size=='M'):\n",
        "  print(\"Final price = $6\")\n",
        "elif(coffee=='iced caramel brulee latte'and temperature=='cold' and size=='L'):\n",
        "  print(\"Final price = $7\")\n",
        "\n",
        "#matcha latte\n",
        "if(coffee=='matcha latte' and temperature=='hot'and size=='S'):\n",
        "  print(\"Final price = $5.5\")\n",
        "elif (coffee=='matcha latte'and temperature=='hot' and size=='M'):\n",
        "  print(\"Final price = $6.5\")\n",
        "elif(coffee=='matcha latte'and temperature=='hot' and size=='L'):\n",
        "  print(\"Final price = $7.5\")\n",
        "elif(coffee=='matcha latte' and temperature=='cold'and size=='S'):\n",
        "  print(\"Final price = $5\")\n",
        "elif (coffee=='matcha latte'and temperature=='cold' and size=='M'):\n",
        "  print(\"Final price = $6\")\n",
        "elif(coffee=='matcha latte'and temperature=='cold' and size=='L'):\n",
        "  print(\"Final price = $7\")\n",
        "\n",
        "#cappucino\n",
        "if(coffee=='cappucino' and temperature=='hot'and size=='S'):\n",
        "  print(\"Final price = $5.5\")\n",
        "elif (coffee=='cappucino'and temperature=='hot' and size=='M'):\n",
        "  print(\"Final price = $6.5\")\n",
        "elif(coffee=='cappucino'and temperature=='hot' and size=='L'):\n",
        "  print(\"Final price = $7.5\")\n",
        "elif(coffee=='cappucino' and temperature=='cold'and size=='S'):\n",
        "  print(\"Final price = $5\")\n",
        "elif (coffee=='cappucino'and temperature=='cold' and size=='M'):\n",
        "  print(\"Final price = $6\")\n",
        "elif(coffee=='cappucino'and temperature=='cold' and size=='L'):\n",
        "  print(\"Final price = $7\")\n",
        "\n",
        "\n"
      ],
      "metadata": {
        "id": "pxdlrOTol3aQ",
        "colab": {
          "base_uri": "https://localhost:8080/"
        },
        "outputId": "1652875a-7fee-4d3c-b522-3f02b4e692c8"
      },
      "execution_count": null,
      "outputs": [
        {
          "output_type": "stream",
          "name": "stdout",
          "text": [
            "Choose the coffee you want :iced caramel brulee latte, matcha latte, cappucino? cappucino\n",
            "Do you want it hot or cold? hot\n",
            "please select the size : S,M,L? S\n",
            "Final price = $5.5\n"
          ]
        }
      ]
    },
    {
      "cell_type": "markdown",
      "source": [
        "Observation about if, elif and else:"
      ],
      "metadata": {
        "id": "ZMCnST7VO5LH"
      }
    },
    {
      "cell_type": "code",
      "source": [
        "a = 1\n",
        "b = 2\n",
        "if(a>b): #in the if we need to define a conditional\n",
        "  print(a,\", \",b)\n",
        "else(a<b): # in the else we don't have a conditional\n",
        "  print(a,\", \",b)\n",
        "\n",
        "\n"
      ],
      "metadata": {
        "colab": {
          "base_uri": "https://localhost:8080/",
          "height": 140
        },
        "id": "-R2DapDgL78x",
        "outputId": "7e5da80b-8b88-4c37-e8ad-99a7dcb41185"
      },
      "execution_count": null,
      "outputs": [
        {
          "output_type": "error",
          "ename": "SyntaxError",
          "evalue": "expected ':' (<ipython-input-14-a896cc03274e>, line 5)",
          "traceback": [
            "\u001b[0;36m  File \u001b[0;32m\"<ipython-input-14-a896cc03274e>\"\u001b[0;36m, line \u001b[0;32m5\u001b[0m\n\u001b[0;31m    else(a<b): # in the else we don't have a conditional\u001b[0m\n\u001b[0m        ^\u001b[0m\n\u001b[0;31mSyntaxError\u001b[0m\u001b[0;31m:\u001b[0m expected ':'\n"
          ]
        }
      ]
    },
    {
      "cell_type": "markdown",
      "source": [
        "We can write the code above in 2 different ways:"
      ],
      "metadata": {
        "id": "9HM190bmO8_Y"
      }
    },
    {
      "cell_type": "code",
      "source": [
        "a = 1\n",
        "b = 2\n",
        "if(a>b): #in the if we need to define a conditional\n",
        "  print(a,\", \",b)\n",
        "else: # in the else we don't have a conditional\n",
        "  print(a,\", \",b)\n"
      ],
      "metadata": {
        "colab": {
          "base_uri": "https://localhost:8080/"
        },
        "id": "kHhYmcmdOreQ",
        "outputId": "a1c47966-c519-426a-b56a-a719cf0d0bf7"
      },
      "execution_count": null,
      "outputs": [
        {
          "output_type": "stream",
          "name": "stdout",
          "text": [
            "1 ,  2\n"
          ]
        }
      ]
    },
    {
      "cell_type": "code",
      "source": [
        "a = 1\n",
        "b = 2\n",
        "if(a>b): #in the if we need to define a conditional\n",
        "  print(a,\", \",b)\n",
        "elif(a<b): # in the elif we have a conditional\n",
        "  print(a,\", \",b)"
      ],
      "metadata": {
        "colab": {
          "base_uri": "https://localhost:8080/"
        },
        "id": "jHgDh_W2OvP3",
        "outputId": "2a5d9b2d-7346-45a3-96a7-daaabf0660c6"
      },
      "execution_count": null,
      "outputs": [
        {
          "output_type": "stream",
          "name": "stdout",
          "text": [
            "1 ,  2\n"
          ]
        }
      ]
    },
    {
      "cell_type": "code",
      "source": [
        "import numpy as np\n",
        "from scipy.interpolate import splrep, splev\n",
        "\n",
        "# Sample data\n",
        "np.random.seed(0)  # For reproducibility\n",
        "data = np.random.rand(20, 10)\n",
        "\n",
        "# New x-axis values for interpolation (5 points)\n",
        "x_old = np.linspace(0, 1, 10)\n",
        "x_new = np.linspace(0, 1, 5)\n",
        "\n",
        "# Container for the new data\n",
        "new_data = np.zeros((20, 5))\n",
        "\n",
        "# Interpolate each row\n",
        "for i in range(20):\n",
        "    # Compute B-spline representation of the data\n",
        "    tck = splrep(x_old, data[i, :], s=0)\n",
        "    # Evaluate the B-spline at new x-axis values\n",
        "    new_data[i, :] = splev(x_new, tck)\n",
        "\n",
        "# Display the new data shape\n",
        "print(new_data.shape)\n",
        "print(new_data)"
      ],
      "metadata": {
        "id": "-vFFBSSRO4Mk",
        "colab": {
          "base_uri": "https://localhost:8080/"
        },
        "outputId": "89c70fa0-985b-4b1f-d4ca-09cdd5057686"
      },
      "execution_count": null,
      "outputs": [
        {
          "output_type": "stream",
          "name": "stdout",
          "text": [
            "(20, 5)\n",
            "[[0.5488135  0.58987386 0.55524287 0.76249385 0.38344152]\n",
            " [0.79172504 0.70279557 0.0129413  0.64963277 0.87001215]\n",
            " [0.97861834 0.55404093 0.37579483 0.76170578 0.41466194]\n",
            " [0.26455561 0.48805895 0.25612009 0.57403945 0.6818203 ]\n",
            " [0.3595079  0.54451596 0.79087019 0.10971719 0.36371077]\n",
            " [0.57019677 0.82911697 0.16130452 0.35149684 0.24442559]\n",
            " [0.15896958 0.58337442 0.23588364 0.21148406 0.09609841]\n",
            " [0.97645947 0.92306199 0.38613219 0.16469297 0.11872772]\n",
            " [0.31798318 0.17479386 0.34465579 0.17127128 0.9292962 ]\n",
            " [0.31856895 0.23307039 0.11327064 0.09086873 0.00469548]\n",
            " [0.67781654 0.8736218  0.33876858 0.60733278 0.95274901]\n",
            " [0.44712538 0.55587586 0.60776372 0.6563788  0.69253159]\n",
            " [0.72525428 0.94442117 0.5681229  0.16885484 0.29007761]\n",
            " [0.61801543 0.13502078 0.60529862 0.63273118 0.43141844]\n",
            " [0.8965466  0.55589664 0.81901013 0.7247145  0.99884701]\n",
            " [0.1494483  0.23431161 0.41811394 0.61591842 0.069167  ]\n",
            " [0.69742877 0.77513014 1.01580431 0.20044033 0.17162968]\n",
            " [0.52103661 0.12588865 0.59669228 0.82744371 0.03183893]\n",
            " [0.16469416 0.44952246 0.86031602 0.56475259 0.311945  ]\n",
            " [0.39822106 0.36407336 0.60309789 0.25660402 0.43441663]]\n"
          ]
        }
      ]
    },
    {
      "cell_type": "code",
      "source": [],
      "metadata": {
        "id": "XA6tP-bWJtP8"
      },
      "execution_count": null,
      "outputs": []
    }
  ]
}